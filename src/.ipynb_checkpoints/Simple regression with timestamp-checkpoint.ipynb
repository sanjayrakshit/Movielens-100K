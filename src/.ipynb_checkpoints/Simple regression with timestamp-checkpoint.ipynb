{
 "cells": [
  {
   "cell_type": "markdown",
   "metadata": {},
   "source": [
    "### Loading the dataset"
   ]
  },
  {
   "cell_type": "code",
   "execution_count": 1,
   "metadata": {
    "collapsed": true
   },
   "outputs": [],
   "source": [
    "import pandas as pd"
   ]
  },
  {
   "cell_type": "code",
   "execution_count": 2,
   "metadata": {
    "collapsed": true
   },
   "outputs": [],
   "source": [
    "train = pd.read_csv('../data/ml-latest-small/train-rating.csv')\n",
    "test = pd.read_csv('../data/ml-latest-small/test-rating.csv')\n",
    "minf = pd.read_csv('../data/ml-latest-small/movie-info.csv')\n",
    "uinf = pd.read_csv('../data/ml-latest-small/customer-info.csv')"
   ]
  },
  {
   "cell_type": "code",
   "execution_count": 3,
   "metadata": {
    "collapsed": false
   },
   "outputs": [
    {
     "data": {
      "text/plain": [
       "(Index([u'Unnamed: 0', u'userId', u'movieId', u'rating', u'timestamp'], dtype='object'),\n",
       " Index([u'Unnamed: 0', u'Mov-Freq', u'Mov-Mean', u'Mov-std', u'Mov-var',\n",
       "        u'movieId'],\n",
       "       dtype='object'),\n",
       " Index([u'Unnamed: 0', u'C-Freq', u'C-Mean', u'C-std', u'C-var', u'userId'], dtype='object'))"
      ]
     },
     "execution_count": 3,
     "metadata": {},
     "output_type": "execute_result"
    }
   ],
   "source": [
    "train.columns, minf.columns, uinf.columns"
   ]
  },
  {
   "cell_type": "markdown",
   "metadata": {},
   "source": [
    "### Necessary joins"
   ]
  },
  {
   "cell_type": "code",
   "execution_count": 4,
   "metadata": {
    "collapsed": false
   },
   "outputs": [],
   "source": [
    "train = (train.merge(uinf,on='userId'))\\\n",
    ".join(minf.set_index('movieId'),on='movieId')\n",
    "tr_Y = train.rating\n",
    "\n",
    "test = (test.merge(uinf,on='userId'))\\\n",
    ".join(minf.set_index('movieId'),on='movieId')\n",
    "ts_Y = test.rating"
   ]
  },
  {
   "cell_type": "code",
   "execution_count": 5,
   "metadata": {
    "collapsed": false
   },
   "outputs": [
    {
     "data": {
      "text/html": [
       "<div>\n",
       "<table border=\"1\" class=\"dataframe\">\n",
       "  <thead>\n",
       "    <tr style=\"text-align: right;\">\n",
       "      <th></th>\n",
       "      <th>Unnamed: 0_x</th>\n",
       "      <th>userId</th>\n",
       "      <th>movieId</th>\n",
       "      <th>rating</th>\n",
       "      <th>timestamp</th>\n",
       "      <th>Unnamed: 0_y</th>\n",
       "      <th>C-Freq</th>\n",
       "      <th>C-Mean</th>\n",
       "      <th>C-std</th>\n",
       "      <th>C-var</th>\n",
       "      <th>Unnamed: 0</th>\n",
       "      <th>Mov-Freq</th>\n",
       "      <th>Mov-Mean</th>\n",
       "      <th>Mov-std</th>\n",
       "      <th>Mov-var</th>\n",
       "    </tr>\n",
       "  </thead>\n",
       "  <tbody>\n",
       "    <tr>\n",
       "      <th>0</th>\n",
       "      <td>52641</td>\n",
       "      <td>382</td>\n",
       "      <td>45</td>\n",
       "      <td>5.0</td>\n",
       "      <td>789652009</td>\n",
       "      <td>382</td>\n",
       "      <td>62</td>\n",
       "      <td>3.435484</td>\n",
       "      <td>0.891193</td>\n",
       "      <td>0.794225</td>\n",
       "      <td>45</td>\n",
       "      <td>201</td>\n",
       "      <td>4.034826</td>\n",
       "      <td>0.899851</td>\n",
       "      <td>0.809732</td>\n",
       "    </tr>\n",
       "    <tr>\n",
       "      <th>1</th>\n",
       "      <td>52684</td>\n",
       "      <td>382</td>\n",
       "      <td>870</td>\n",
       "      <td>3.0</td>\n",
       "      <td>789652009</td>\n",
       "      <td>382</td>\n",
       "      <td>62</td>\n",
       "      <td>3.435484</td>\n",
       "      <td>0.891193</td>\n",
       "      <td>0.794225</td>\n",
       "      <td>870</td>\n",
       "      <td>89</td>\n",
       "      <td>3.971910</td>\n",
       "      <td>0.849188</td>\n",
       "      <td>0.721121</td>\n",
       "    </tr>\n",
       "    <tr>\n",
       "      <th>2</th>\n",
       "      <td>52635</td>\n",
       "      <td>382</td>\n",
       "      <td>20</td>\n",
       "      <td>3.0</td>\n",
       "      <td>789652009</td>\n",
       "      <td>382</td>\n",
       "      <td>62</td>\n",
       "      <td>3.435484</td>\n",
       "      <td>0.891193</td>\n",
       "      <td>0.794225</td>\n",
       "      <td>20</td>\n",
       "      <td>95</td>\n",
       "      <td>3.536842</td>\n",
       "      <td>1.005883</td>\n",
       "      <td>1.011801</td>\n",
       "    </tr>\n",
       "  </tbody>\n",
       "</table>\n",
       "</div>"
      ],
      "text/plain": [
       "   Unnamed: 0_x  userId  movieId  rating  timestamp  Unnamed: 0_y  C-Freq  \\\n",
       "0         52641     382       45     5.0  789652009           382      62   \n",
       "1         52684     382      870     3.0  789652009           382      62   \n",
       "2         52635     382       20     3.0  789652009           382      62   \n",
       "\n",
       "     C-Mean     C-std     C-var  Unnamed: 0  Mov-Freq  Mov-Mean   Mov-std  \\\n",
       "0  3.435484  0.891193  0.794225          45       201  4.034826  0.899851   \n",
       "1  3.435484  0.891193  0.794225         870        89  3.971910  0.849188   \n",
       "2  3.435484  0.891193  0.794225          20        95  3.536842  1.005883   \n",
       "\n",
       "    Mov-var  \n",
       "0  0.809732  \n",
       "1  0.721121  \n",
       "2  1.011801  "
      ]
     },
     "execution_count": 5,
     "metadata": {},
     "output_type": "execute_result"
    }
   ],
   "source": [
    "train.head(3) "
   ]
  },
  {
   "cell_type": "code",
   "execution_count": 6,
   "metadata": {
    "collapsed": false
   },
   "outputs": [
    {
     "data": {
      "text/html": [
       "<div>\n",
       "<table border=\"1\" class=\"dataframe\">\n",
       "  <thead>\n",
       "    <tr style=\"text-align: right;\">\n",
       "      <th></th>\n",
       "      <th>Unnamed: 0_x</th>\n",
       "      <th>userId</th>\n",
       "      <th>movieId</th>\n",
       "      <th>rating</th>\n",
       "      <th>timestamp</th>\n",
       "      <th>Unnamed: 0_y</th>\n",
       "      <th>C-Freq</th>\n",
       "      <th>C-Mean</th>\n",
       "      <th>C-std</th>\n",
       "      <th>C-var</th>\n",
       "      <th>Unnamed: 0</th>\n",
       "      <th>Mov-Freq</th>\n",
       "      <th>Mov-Mean</th>\n",
       "      <th>Mov-std</th>\n",
       "      <th>Mov-var</th>\n",
       "    </tr>\n",
       "  </thead>\n",
       "  <tbody>\n",
       "    <tr>\n",
       "      <th>0</th>\n",
       "      <td>13737</td>\n",
       "      <td>87</td>\n",
       "      <td>6142</td>\n",
       "      <td>2.0</td>\n",
       "      <td>1239755439</td>\n",
       "      <td>87</td>\n",
       "      <td>255</td>\n",
       "      <td>3.378431</td>\n",
       "      <td>0.951225</td>\n",
       "      <td>0.904829</td>\n",
       "      <td>6142</td>\n",
       "      <td>105</td>\n",
       "      <td>3.857143</td>\n",
       "      <td>0.872092</td>\n",
       "      <td>0.760544</td>\n",
       "    </tr>\n",
       "    <tr>\n",
       "      <th>1</th>\n",
       "      <td>13624</td>\n",
       "      <td>87</td>\n",
       "      <td>1331</td>\n",
       "      <td>3.0</td>\n",
       "      <td>1239755446</td>\n",
       "      <td>87</td>\n",
       "      <td>255</td>\n",
       "      <td>3.378431</td>\n",
       "      <td>0.951225</td>\n",
       "      <td>0.904829</td>\n",
       "      <td>1331</td>\n",
       "      <td>56</td>\n",
       "      <td>4.044643</td>\n",
       "      <td>0.721338</td>\n",
       "      <td>0.520328</td>\n",
       "    </tr>\n",
       "    <tr>\n",
       "      <th>2</th>\n",
       "      <td>13535</td>\n",
       "      <td>87</td>\n",
       "      <td>233</td>\n",
       "      <td>3.5</td>\n",
       "      <td>1239755456</td>\n",
       "      <td>87</td>\n",
       "      <td>255</td>\n",
       "      <td>3.378431</td>\n",
       "      <td>0.951225</td>\n",
       "      <td>0.904829</td>\n",
       "      <td>233</td>\n",
       "      <td>51</td>\n",
       "      <td>3.715686</td>\n",
       "      <td>0.793694</td>\n",
       "      <td>0.629950</td>\n",
       "    </tr>\n",
       "  </tbody>\n",
       "</table>\n",
       "</div>"
      ],
      "text/plain": [
       "   Unnamed: 0_x  userId  movieId  rating   timestamp  Unnamed: 0_y  C-Freq  \\\n",
       "0         13737      87     6142     2.0  1239755439            87     255   \n",
       "1         13624      87     1331     3.0  1239755446            87     255   \n",
       "2         13535      87      233     3.5  1239755456            87     255   \n",
       "\n",
       "     C-Mean     C-std     C-var  Unnamed: 0  Mov-Freq  Mov-Mean   Mov-std  \\\n",
       "0  3.378431  0.951225  0.904829        6142       105  3.857143  0.872092   \n",
       "1  3.378431  0.951225  0.904829        1331        56  4.044643  0.721338   \n",
       "2  3.378431  0.951225  0.904829         233        51  3.715686  0.793694   \n",
       "\n",
       "    Mov-var  \n",
       "0  0.760544  \n",
       "1  0.520328  \n",
       "2  0.629950  "
      ]
     },
     "execution_count": 6,
     "metadata": {},
     "output_type": "execute_result"
    }
   ],
   "source": [
    "test.head(3)"
   ]
  },
  {
   "cell_type": "markdown",
   "metadata": {},
   "source": [
    "### Furthur cleaning"
   ]
  },
  {
   "cell_type": "code",
   "execution_count": 7,
   "metadata": {
    "collapsed": true
   },
   "outputs": [],
   "source": [
    "train = train.drop(axis=1,labels=['Unnamed: 0_x','rating','Unnamed: 0_y','Unnamed: 0'])"
   ]
  },
  {
   "cell_type": "code",
   "execution_count": 8,
   "metadata": {
    "collapsed": true
   },
   "outputs": [],
   "source": [
    "test = test.drop(axis=1,labels=['Unnamed: 0_x','rating','Unnamed: 0_y','Unnamed: 0'])"
   ]
  },
  {
   "cell_type": "markdown",
   "metadata": {},
   "source": [
    "## Model\n",
    "We would use ridge regression as it's very similar to linear regression"
   ]
  },
  {
   "cell_type": "code",
   "execution_count": 9,
   "metadata": {
    "collapsed": true
   },
   "outputs": [],
   "source": [
    "from sklearn.linear_model import Ridge\n",
    "from sklearn.metrics import mean_squared_error"
   ]
  },
  {
   "cell_type": "code",
   "execution_count": 10,
   "metadata": {
    "collapsed": true
   },
   "outputs": [],
   "source": [
    "mdl = Ridge()"
   ]
  },
  {
   "cell_type": "code",
   "execution_count": 11,
   "metadata": {
    "collapsed": false
   },
   "outputs": [
    {
     "data": {
      "text/plain": [
       "Ridge(alpha=1.0, copy_X=True, fit_intercept=True, max_iter=None,\n",
       "   normalize=False, random_state=None, solver='auto', tol=0.001)"
      ]
     },
     "execution_count": 11,
     "metadata": {},
     "output_type": "execute_result"
    }
   ],
   "source": [
    "mdl.fit(train,tr_Y)"
   ]
  },
  {
   "cell_type": "code",
   "execution_count": 12,
   "metadata": {
    "collapsed": true
   },
   "outputs": [],
   "source": [
    "hX = mdl.predict(test)"
   ]
  },
  {
   "cell_type": "code",
   "execution_count": 13,
   "metadata": {
    "collapsed": false
   },
   "outputs": [
    {
     "data": {
      "text/plain": [
       "0.7942177363384979"
      ]
     },
     "execution_count": 13,
     "metadata": {},
     "output_type": "execute_result"
    }
   ],
   "source": [
    "m = mean_squared_error(hX,ts_Y)\n",
    "m**0.5"
   ]
  }
 ],
 "metadata": {
  "kernelspec": {
   "display_name": "Python 2",
   "language": "python",
   "name": "python2"
  },
  "language_info": {
   "codemirror_mode": {
    "name": "ipython",
    "version": 2
   },
   "file_extension": ".py",
   "mimetype": "text/x-python",
   "name": "python",
   "nbconvert_exporter": "python",
   "pygments_lexer": "ipython2",
   "version": "2.7.13"
  }
 },
 "nbformat": 4,
 "nbformat_minor": 0
}
