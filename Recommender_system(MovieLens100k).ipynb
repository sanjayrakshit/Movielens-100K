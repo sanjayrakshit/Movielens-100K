{
 "cells": [
  {
   "cell_type": "markdown",
   "metadata": {},
   "source": [
    "# Recommender Systems\n",
    "\n",
    "This is my attempt on building a recommender systems on MovieLens Dataset (100K)\n",
    "\n",
    "About dataset : [http://files.grouplens.org/datasets/movielens/ml-latest-small-README.html]"
   ]
  },
  {
   "cell_type": "code",
   "execution_count": 1,
   "metadata": {},
   "outputs": [],
   "source": [
    "# importing necessary libraries\n",
    "\n",
    "import pandas as pd\n",
    "import matplotlib.pyplot as plt\n",
    "import numpy as np\n",
    "import datetime\n",
    "import seaborn as sns"
   ]
  },
  {
   "cell_type": "code",
   "execution_count": 2,
   "metadata": {},
   "outputs": [],
   "source": [
    "# Loading the data \n",
    "\n",
    "data = pd.read_csv('ratings.csv')"
   ]
  },
  {
   "cell_type": "code",
   "execution_count": 3,
   "metadata": {},
   "outputs": [
    {
     "data": {
      "text/html": [
       "<div>\n",
       "<style scoped>\n",
       "    .dataframe tbody tr th:only-of-type {\n",
       "        vertical-align: middle;\n",
       "    }\n",
       "\n",
       "    .dataframe tbody tr th {\n",
       "        vertical-align: top;\n",
       "    }\n",
       "\n",
       "    .dataframe thead th {\n",
       "        text-align: right;\n",
       "    }\n",
       "</style>\n",
       "<table border=\"1\" class=\"dataframe\">\n",
       "  <thead>\n",
       "    <tr style=\"text-align: right;\">\n",
       "      <th></th>\n",
       "      <th>userId</th>\n",
       "      <th>movieId</th>\n",
       "      <th>rating</th>\n",
       "      <th>timestamp</th>\n",
       "    </tr>\n",
       "  </thead>\n",
       "  <tbody>\n",
       "    <tr>\n",
       "      <th>0</th>\n",
       "      <td>1</td>\n",
       "      <td>31</td>\n",
       "      <td>2.5</td>\n",
       "      <td>1260759144</td>\n",
       "    </tr>\n",
       "    <tr>\n",
       "      <th>1</th>\n",
       "      <td>1</td>\n",
       "      <td>1029</td>\n",
       "      <td>3.0</td>\n",
       "      <td>1260759179</td>\n",
       "    </tr>\n",
       "    <tr>\n",
       "      <th>2</th>\n",
       "      <td>1</td>\n",
       "      <td>1061</td>\n",
       "      <td>3.0</td>\n",
       "      <td>1260759182</td>\n",
       "    </tr>\n",
       "    <tr>\n",
       "      <th>3</th>\n",
       "      <td>1</td>\n",
       "      <td>1129</td>\n",
       "      <td>2.0</td>\n",
       "      <td>1260759185</td>\n",
       "    </tr>\n",
       "    <tr>\n",
       "      <th>4</th>\n",
       "      <td>1</td>\n",
       "      <td>1172</td>\n",
       "      <td>4.0</td>\n",
       "      <td>1260759205</td>\n",
       "    </tr>\n",
       "  </tbody>\n",
       "</table>\n",
       "</div>"
      ],
      "text/plain": [
       "   userId  movieId  rating   timestamp\n",
       "0       1       31     2.5  1260759144\n",
       "1       1     1029     3.0  1260759179\n",
       "2       1     1061     3.0  1260759182\n",
       "3       1     1129     2.0  1260759185\n",
       "4       1     1172     4.0  1260759205"
      ]
     },
     "execution_count": 3,
     "metadata": {},
     "output_type": "execute_result"
    }
   ],
   "source": [
    "# This is how the data looks\n",
    "\n",
    "data.head()"
   ]
  },
  {
   "cell_type": "code",
   "execution_count": 4,
   "metadata": {
    "scrolled": false
   },
   "outputs": [
    {
     "name": "stdout",
     "output_type": "stream",
     "text": [
      "Is there a presence of null values?\n",
      "userId       0\n",
      "movieId      0\n",
      "rating       0\n",
      "timestamp    0\n",
      "dtype: int64\n",
      "\n",
      "Description about ratings:\n",
      "count    100004.000000\n",
      "mean          3.543608\n",
      "std           1.058064\n",
      "min           0.500000\n",
      "25%           3.000000\n",
      "50%           4.000000\n",
      "75%           4.000000\n",
      "max           5.000000\n",
      "Name: rating, dtype: float64\n",
      "\n",
      "Unique ratings: [0.5 1.  1.5 2.  2.5 3.  3.5 4.  4.5 5. ]\n",
      "\n",
      "Unique #users: 671\n",
      "\n",
      "Unique #movies: 9066\n"
     ]
    }
   ],
   "source": [
    "# Let's do some very basic checks before moving forward\n",
    "\n",
    "print ('Is there a presence of null values?\\n{}'.format(data.isnull().sum()))\n",
    "\n",
    "print ('\\nDescription about ratings:\\n{}'.format(data['rating'].describe()))\n",
    "\n",
    "unique_rating = data['rating'].unique()\n",
    "unique_rating.sort()\n",
    "print ('\\nUnique ratings: {}'.format(unique_rating))\n",
    "\n",
    "print ('\\nUnique #users: {}'.format(data['userId'].unique().shape[0]))\n",
    "\n",
    "print ('\\nUnique #movies: {}'.format(data['movieId'].unique().shape[0]))"
   ]
  },
  {
   "cell_type": "markdown",
   "metadata": {},
   "source": [
    "In the cell below we have few utility functions that'll help us in the regression model for recommender systems"
   ]
  },
  {
   "cell_type": "code",
   "execution_count": 5,
   "metadata": {},
   "outputs": [],
   "source": [
    "# Utility functions \n",
    "\n",
    "def train_test_split(df,way):\n",
    "    '''This function will perform train and test split of the data'''\n",
    "    if(way=='random'):\n",
    "        df = df.sample(frac=1)\n",
    "    elif(way=='time'):\n",
    "        df = df.sort_values(by='timestamp')\n",
    "    l = int(df.shape[0]*.8)\n",
    "    train = df[:l]\n",
    "    test = df[l:]\n",
    "    \n",
    "    X_train = train.drop(labels=['timestamp','rating'],axis=1); y_train = train['rating']\n",
    "    X_test = test.drop(labels=['timestamp','rating'],axis=1); y_test = test['rating']\n",
    "\n",
    "    return (X_train,y_train,X_test,y_test)\n",
    "\n",
    "def center_scale(train,test,fet):\n",
    "    '''This function takes in the test and train data and standardizes them'''\n",
    "    fet_col = train[fet].tolist()\n",
    "    mu = np.mean(fet_col); sig = np.std(fet_col)\n",
    "    \n",
    "    for i in range(len(fet_col)):\n",
    "        fet_col[i] = (fet_col[i]-mu)/sig\n",
    "    train[fet] = fet_col\n",
    "    fet_col = test[fet].tolist()\n",
    "    \n",
    "    for i in range(len(fet_col)):\n",
    "        fet_col[i] = (fet_col[i]-mu)/sig\n",
    "    test[fet] = fet_col\n",
    "    \n",
    "    return (train,test)"
   ]
  },
  {
   "cell_type": "code",
   "execution_count": 6,
   "metadata": {},
   "outputs": [],
   "source": [
    "# Splitting the dataset into train and test in a random fashion\n",
    "\n",
    "X_train, y_train, X_test, y_test = train_test_split(data,'random')"
   ]
  },
  {
   "cell_type": "code",
   "execution_count": 7,
   "metadata": {},
   "outputs": [
    {
     "name": "stderr",
     "output_type": "stream",
     "text": [
      "C:\\Users\\Sanjay\\AppData\\Local\\Continuum\\anaconda3\\lib\\site-packages\\numpy\\core\\fromnumeric.py:52: FutureWarning: reshape is deprecated and will raise in a subsequent release. Please use .values.reshape(...) instead\n",
      "  return getattr(obj, method)(*args, **kwds)\n"
     ]
    },
    {
     "data": {
      "image/png": "[encoded data removed]",
      "text/plain": [
       "<matplotlib.figure.Figure at 0x2afc135e3c8>"
      ]
     },
     "metadata": {},
     "output_type": "display_data"
    }
   ],
   "source": [
    "# Code below plots the histogram of the ratings BLACK is training set BLUE is testing set\n",
    "\n",
    "plt.figure(figsize=(12,6))\n",
    "bins = unique_rating.tolist() + [5.5]\n",
    "plt.hist(x=[y_train,y_test],bins=bins,color=['black','blue'],normed=True,rwidth=0.9)\n",
    "plt.xticks(unique_rating+.25,unique_rating)\n",
    "plt.title('Histogram of Ratings',fontdict={'fontsize':30})\n",
    "plt.show()"
   ]
  },
  {
   "cell_type": "markdown",
   "metadata": {},
   "source": [
    "We can see that the distribution of ratings over the train and test data are same."
   ]
  },
  {
   "cell_type": "markdown",
   "metadata": {},
   "source": [
    "### Recommender system using regression\n",
    "\n",
    "We are going to implement recommender system using regression techniques and record the metrics accordingly"
   ]
  },
  {
   "cell_type": "code",
   "execution_count": 8,
   "metadata": {},
   "outputs": [
    {
     "name": "stdout",
     "output_type": "stream",
     "text": [
      "===Standardizing these columns===\n",
      "\n",
      "userId\tmovieId\t"
     ]
    }
   ],
   "source": [
    "# Now we would standardize our train and test data \n",
    "\n",
    "print ('===Standardizing these columns===\\n')\n",
    "for i, cn in enumerate(X_train[X_train.columns]):\n",
    "    print (cn,end='\\t')\n",
    "    X_train, X_test = center_scale(X_train,X_test,cn)"
   ]
  },
  {
   "cell_type": "markdown",
   "metadata": {},
   "source": [
    "In the cell below we have functions that'll help us build the regression model and print the metrics"
   ]
  },
  {
   "cell_type": "code",
   "execution_count": 9,
   "metadata": {},
   "outputs": [],
   "source": [
    "# Algorithms \n",
    "\n",
    "from sklearn.linear_model import Ridge\n",
    "from sklearn.model_selection import GridSearchCV\n",
    "from sklearn.metrics import mean_squared_error, mean_absolute_error\n",
    "\n",
    "def metric(observed, predicted):\n",
    "    rmse = mean_squared_error(observed,predicted)**0.5\n",
    "    mae = mean_absolute_error(observed,predicted)\n",
    "    print ('\\nRMSE: {}\\nMAE: {}'.format(rmse,mae))\n",
    "    \n",
    "def ridge_regressor(X_train,X_test,y_train,param):\n",
    "    '''Implements Ridge regression with hyperparameter tuning'''\n",
    "    \n",
    "    ridge = Ridge()\n",
    "    reg = GridSearchCV(ridge,param)\n",
    "    reg.fit(X_train,y_train)\n",
    "\n",
    "    rid_parameters = ridge.get_params()\n",
    "    rid_parameters['alpha'] = reg.best_params_['alpha']\n",
    "\n",
    "    ridge.set_params(**rid_parameters)\n",
    "    print ('\\n---Parameters for Ridge Regression---\\n{}'.format(ridge.get_params))\n",
    "\n",
    "    ridge.fit(X_train,y_train)\n",
    "    y_pred = ridge.predict(X_test)\n",
    "    \n",
    "    return (y_pred)"
   ]
  },
  {
   "cell_type": "code",
   "execution_count": 10,
   "metadata": {},
   "outputs": [
    {
     "name": "stdout",
     "output_type": "stream",
     "text": [
      "\n",
      "---Parameters for Ridge Regression---\n",
      "<bound method BaseEstimator.get_params of Ridge(alpha=100, copy_X=True, fit_intercept=True, max_iter=None,\n",
      "   normalize=False, random_state=None, solver='auto', tol=0.001)>\n",
      "\n",
      "===METRICS===\n",
      "\n",
      "RMSE: 1.066698503735705\n",
      "MAE: 0.8563265025436632\n",
      "\n",
      "Time required = 0:00:00.770394\n"
     ]
    }
   ],
   "source": [
    "# Lets try a our naive 1st cut solution which is a very simple form of ridge regression with hyper parameter tuning\n",
    "\n",
    "initial = datetime.datetime.now()\n",
    "\n",
    "#alpha = [0.125,0.25,0.5,1,2,4,8] # We had previously tried on this range. Now I would like to explore a larger range.\n",
    "alpha = [0.001,0.01,0.1,1,10,100]\n",
    "parameter = {'alpha':alpha}\n",
    "\n",
    "y_pred = ridge_regressor(X_train,X_test,y_train,parameter)\n",
    "\n",
    "print ('\\n===METRICS===')\n",
    "metric(y_test,y_pred)\n",
    "\n",
    "final = datetime.datetime.now()\n",
    "\n",
    "print ('\\nTime required =',final-initial)"
   ]
  },
  {
   "cell_type": "markdown",
   "metadata": {},
   "source": [
    "The above metrics are for the 1st cut solution of the recommender system implementation. With a MAE of 0.85, it's not a bad start. Let's see what else we can do with our models and let's also monitor the metrics of other different models.\n",
    "\n",
    "----"
   ]
  },
  {
   "cell_type": "markdown",
   "metadata": {},
   "source": [
    "### Recommender system using regression and a little bit of feature engineering\n",
    "\n",
    "We are going to try to modify the previous model by doing some sort of feature engineering on our data."
   ]
  },
  {
   "cell_type": "markdown",
   "metadata": {},
   "source": [
    "In the cell below we have 2 functions that create user and movie features. Read the function documentation to understand what they are doing."
   ]
  },
  {
   "cell_type": "code",
   "execution_count": 11,
   "metadata": {},
   "outputs": [],
   "source": [
    "# functions for feature engineering \n",
    "\n",
    "def user_features(df):\n",
    "    '''This function will create 2 user dependent features such as \n",
    "        the mean ratings given by the user and the std dev of the ratings'''\n",
    "    userid = df['userId'].tolist()\n",
    "    mean_ratings = list(); stddev_ratings = list()\n",
    "    for uid in userid:\n",
    "        uid_df = df.loc[df['userId']==uid]\n",
    "        ratings = uid_df['rating'].tolist()\n",
    "        mean = np.mean(ratings); std_dev = np.std(ratings)\n",
    "        \n",
    "        mean_ratings.append(mean); stddev_ratings.append(std_dev)\n",
    "        \n",
    "    df['mean_ratings_u'] = mean_ratings\n",
    "    df['stddev_ratings_u'] = stddev_ratings\n",
    "    \n",
    "    return df\n",
    "\n",
    "def movie_features(df):\n",
    "    '''This function will create 2 movie dependent features such as the \n",
    "        mean ratings that the movie got and the std dev of the ratings that the movie got'''\n",
    "    movid = df['movieId'].tolist()\n",
    "    mean_ratings = list(); stddev_ratings = list()\n",
    "    for mid in movid:\n",
    "        mid_df = df.loc[df['movieId']==mid]\n",
    "        ratings = mid_df['rating'].tolist()\n",
    "        mean = np.mean(ratings); std_dev = np.std(ratings)\n",
    "        \n",
    "        mean_ratings.append(mean); stddev_ratings.append(std_dev)\n",
    "        \n",
    "    df['mean_ratings_m'] = mean_ratings\n",
    "    df['stddev_ratings_m'] = stddev_ratings\n",
    "    \n",
    "    return df"
   ]
  },
  {
   "cell_type": "code",
   "execution_count": 12,
   "metadata": {},
   "outputs": [],
   "source": [
    "# We need to reload the data before feature engineering\n",
    "\n",
    "data = pd.read_csv('ratings.csv')"
   ]
  },
  {
   "cell_type": "code",
   "execution_count": 13,
   "metadata": {},
   "outputs": [
    {
     "name": "stdout",
     "output_type": "stream",
     "text": [
      "\n",
      "Time required = 0:01:49.870061\n"
     ]
    }
   ],
   "source": [
    "# Feature enginnering \n",
    "\n",
    "initial = datetime.datetime.now()\n",
    "\n",
    "data = user_features(data) # this will add user-dependent features \n",
    "\n",
    "data = movie_features(data) # this will add movie-dependent features\n",
    "\n",
    "final = datetime.datetime.now()\n",
    "\n",
    "print ('\\nTime required =',final-initial)"
   ]
  },
  {
   "cell_type": "code",
   "execution_count": 14,
   "metadata": {},
   "outputs": [
    {
     "data": {
      "text/html": [
       "<div>\n",
       "<style scoped>\n",
       "    .dataframe tbody tr th:only-of-type {\n",
       "        vertical-align: middle;\n",
       "    }\n",
       "\n",
       "    .dataframe tbody tr th {\n",
       "        vertical-align: top;\n",
       "    }\n",
       "\n",
       "    .dataframe thead th {\n",
       "        text-align: right;\n",
       "    }\n",
       "</style>\n",
       "<table border=\"1\" class=\"dataframe\">\n",
       "  <thead>\n",
       "    <tr style=\"text-align: right;\">\n",
       "      <th></th>\n",
       "      <th>userId</th>\n",
       "      <th>movieId</th>\n",
       "      <th>rating</th>\n",
       "      <th>timestamp</th>\n",
       "      <th>mean_ratings_u</th>\n",
       "      <th>stddev_ratings_u</th>\n",
       "      <th>mean_ratings_m</th>\n",
       "      <th>stddev_ratings_m</th>\n",
       "    </tr>\n",
       "  </thead>\n",
       "  <tbody>\n",
       "    <tr>\n",
       "      <th>0</th>\n",
       "      <td>1</td>\n",
       "      <td>31</td>\n",
       "      <td>2.5</td>\n",
       "      <td>1260759144</td>\n",
       "      <td>2.55</td>\n",
       "      <td>0.864581</td>\n",
       "      <td>3.178571</td>\n",
       "      <td>0.829669</td>\n",
       "    </tr>\n",
       "    <tr>\n",
       "      <th>1</th>\n",
       "      <td>1</td>\n",
       "      <td>1029</td>\n",
       "      <td>3.0</td>\n",
       "      <td>1260759179</td>\n",
       "      <td>2.55</td>\n",
       "      <td>0.864581</td>\n",
       "      <td>3.702381</td>\n",
       "      <td>0.859537</td>\n",
       "    </tr>\n",
       "    <tr>\n",
       "      <th>2</th>\n",
       "      <td>1</td>\n",
       "      <td>1061</td>\n",
       "      <td>3.0</td>\n",
       "      <td>1260759182</td>\n",
       "      <td>2.55</td>\n",
       "      <td>0.864581</td>\n",
       "      <td>3.545455</td>\n",
       "      <td>0.762409</td>\n",
       "    </tr>\n",
       "    <tr>\n",
       "      <th>3</th>\n",
       "      <td>1</td>\n",
       "      <td>1129</td>\n",
       "      <td>2.0</td>\n",
       "      <td>1260759185</td>\n",
       "      <td>2.55</td>\n",
       "      <td>0.864581</td>\n",
       "      <td>3.312500</td>\n",
       "      <td>0.801204</td>\n",
       "    </tr>\n",
       "    <tr>\n",
       "      <th>4</th>\n",
       "      <td>1</td>\n",
       "      <td>1172</td>\n",
       "      <td>4.0</td>\n",
       "      <td>1260759205</td>\n",
       "      <td>2.55</td>\n",
       "      <td>0.864581</td>\n",
       "      <td>4.260870</td>\n",
       "      <td>0.870651</td>\n",
       "    </tr>\n",
       "  </tbody>\n",
       "</table>\n",
       "</div>"
      ],
      "text/plain": [
       "   userId  movieId  rating   timestamp  mean_ratings_u  stddev_ratings_u  \\\n",
       "0       1       31     2.5  1260759144            2.55          0.864581   \n",
       "1       1     1029     3.0  1260759179            2.55          0.864581   \n",
       "2       1     1061     3.0  1260759182            2.55          0.864581   \n",
       "3       1     1129     2.0  1260759185            2.55          0.864581   \n",
       "4       1     1172     4.0  1260759205            2.55          0.864581   \n",
       "\n",
       "   mean_ratings_m  stddev_ratings_m  \n",
       "0        3.178571          0.829669  \n",
       "1        3.702381          0.859537  \n",
       "2        3.545455          0.762409  \n",
       "3        3.312500          0.801204  \n",
       "4        4.260870          0.870651  "
      ]
     },
     "execution_count": 14,
     "metadata": {},
     "output_type": "execute_result"
    }
   ],
   "source": [
    "# Let's look at the data now.\n",
    "\n",
    "data.head()"
   ]
  },
  {
   "cell_type": "markdown",
   "metadata": {},
   "source": [
    "We can see that there are now 4 extra columns \n",
    "* mean_ratings_u: is the mean rating given by that particular user\n",
    "* stddev_ratings_u: is the standard deviation of the ratings given by that user\n",
    "* mean_ratings_m:  is the mean ratings that particular movie got\n",
    "* stddev_ratings_m: is the standard deviation of the ratings that a particular movie got."
   ]
  },
  {
   "cell_type": "code",
   "execution_count": 15,
   "metadata": {},
   "outputs": [],
   "source": [
    "# we are spillting the data into train and test set in random fashion\n",
    "\n",
    "X_train, y_train, X_test, y_test = train_test_split(data,'random')"
   ]
  },
  {
   "cell_type": "code",
   "execution_count": 16,
   "metadata": {},
   "outputs": [
    {
     "name": "stdout",
     "output_type": "stream",
     "text": [
      "===Standardizing these columns===\n",
      "\n",
      "userId\tmovieId\tmean_ratings_u\tstddev_ratings_u\tmean_ratings_m\tstddev_ratings_m\t"
     ]
    }
   ],
   "source": [
    "# Now we would standardize our train and test data \n",
    "\n",
    "print ('===Standardizing these columns===\\n')\n",
    "for i, cn in enumerate(X_train[X_train.columns]):\n",
    "    print (cn,end='\\t')\n",
    "    X_train, X_test = center_scale(X_train,X_test,cn)"
   ]
  },
  {
   "cell_type": "code",
   "execution_count": 17,
   "metadata": {},
   "outputs": [
    {
     "name": "stdout",
     "output_type": "stream",
     "text": [
      "\n",
      "---Parameters for Ridge Regression---\n",
      "<bound method BaseEstimator.get_params of Ridge(alpha=10, copy_X=True, fit_intercept=True, max_iter=None,\n",
      "   normalize=False, random_state=None, solver='auto', tol=0.001)>\n",
      "\n",
      "===METRICS===\n",
      "\n",
      "RMSE: 0.8337655216879091\n",
      "MAE: 0.6387381172964315\n",
      "\n",
      "Time required = 0:00:00.305771\n"
     ]
    }
   ],
   "source": [
    "# Trying out the same algorithm for ridge regression after feature engineering \n",
    "\n",
    "initial = datetime.datetime.now()\n",
    "\n",
    "#alpha = [0.125,0.25,0.5,1,2,4,8] # We had previously tried on this range. Now I would like to explore a larger range.\n",
    "alpha = [0.001,0.01,0.1,1,10,100]\n",
    "parameter = {'alpha':alpha}\n",
    "\n",
    "y_pred = ridge_regressor(X_train,X_test,y_train,parameter)\n",
    "\n",
    "print ('\\n===METRICS===')\n",
    "metric(y_test,y_pred)\n",
    "\n",
    "final = datetime.datetime.now()\n",
    "\n",
    "print ('\\nTime required =',final-initial)"
   ]
  },
  {
   "cell_type": "markdown",
   "metadata": {},
   "source": [
    "We can see the above metric. Previously we had a MAE of ~ 0.85 now we have around 0.63 which is a very significant increase in the performance. Hence we can say our feature engineering really works.\n",
    "\n",
    "\n",
    "----"
   ]
  },
  {
   "cell_type": "markdown",
   "metadata": {},
   "source": [
    "### User-user similarity based recommender system\n",
    "\n",
    "Here I have implemented the user-user similarity based recommender system completely from scratch.\n",
    "<br>I'm defining user A and B as similar users if they have common movies that they have rated (this should include the movie that is our current test point)\n",
    "<br>Degree similarity between two users is the eucledian distance determined by the rating vector of common movies. Lower the distance, greater is the similarity.\n",
    "<br>Predicted rating would be the mean rating of the most similar users on the test movie.\n"
   ]
  },
  {
   "cell_type": "markdown",
   "metadata": {},
   "source": [
    "In the cell below I have some utility functions that I made that'll help me implement the user-user similarity recommender system. The descriptions about the functions are given in the function documentation itself."
   ]
  },
  {
   "cell_type": "code",
   "execution_count": 18,
   "metadata": {},
   "outputs": [],
   "source": [
    "# Utility functions for recommending engine \n",
    "\n",
    "\n",
    "def eliminate_users(df, threshold):\n",
    "    '''This function will eliminate those users who haven't rated atleast \"threshold\" movies '''\n",
    "    unique_uids = df['userId'].unique().tolist()\n",
    "    for uid in unique_uids:\n",
    "        uid_df = df.loc[df['userId']==uid]\n",
    "        if(uid_df.shape[0]<threshold):\n",
    "            df = df.loc[df['userId']!=uid]\n",
    "            \n",
    "    return df\n",
    "\n",
    "def eliminate_movie(df, threshold):\n",
    "    '''This function will eliminate those movies which havent been rated atleast \"threshold\" times'''\n",
    "    unique_mids = df['movieId'].unique().tolist()\n",
    "    for mid in unique_mids:\n",
    "        mid_df = df.loc[df['movieId']==mid]\n",
    "        if(mid_df.shape[0]<threshold):\n",
    "            df = df.loc[df['movieId']!=mid]\n",
    "            \n",
    "    return df\n",
    "\n",
    "def create_ds(df):\n",
    "    '''This will create a dictionary where the key will the userid and the \n",
    "        content will be a set of the movieid that a particular user has rated'''\n",
    "    content_dict = dict()\n",
    "    unique_uids = df['userId'].unique().tolist()\n",
    "    for uid in unique_uids:\n",
    "        uid_df = df.loc[df['userId']==uid]\n",
    "        mids = uid_df['movieId'].unique()\n",
    "        content_dict[uid] = set(mids)\n",
    "        \n",
    "    return content_dict\n",
    "\n",
    "def get_distance(x, y):\n",
    "    '''This will return the eucledian distance between x and y'''\n",
    "    if (len(x)!= len(y)):\n",
    "        print ('error')\n",
    "    \n",
    "    x = np.array(x); y = np.array(y)\n",
    "\n",
    "    return (np.sqrt(np.sum((x-y)**2)))\n",
    "\n",
    "def get_similar_user(uid, mid, index):\n",
    "    '''This function will return all the users which are similar to uid\n",
    "        and similarity is determined if they have atleast 10 movies in common including mid'''\n",
    "    mset = index[uid]; similar_uid = list()\n",
    "    for other_uid in index.keys():\n",
    "        if(other_uid != uid and mid in index[other_uid]):\n",
    "            other_mset = index[other_uid]\n",
    "            if(len(mset.intersection(other_mset))>=10):\n",
    "                similar_uid.append(other_uid)\n",
    "                \n",
    "    return similar_uid\n",
    "\n",
    "def get_similarity_degree(uid, mid, similar_uid, index, df):\n",
    "    '''This will return the similarity degree between uid and the similar_users\n",
    "        similarity degree is determined the eucledian distance of the ratings of the common movie'''\n",
    "    similarity_degree = list()\n",
    "    for other_uid in similar_uid:\n",
    "        intersection_point = index[uid].intersection(index[other_uid])\n",
    "        #print (intersection_point)\n",
    "        intersection_point = list(intersection_point); a = []; b = []\n",
    "        for i in intersection_point:\n",
    "            if(i != mid):\n",
    "                rating_a =  df[(uid,i)] # df.loc[df['movieId'] == i]; rating_a = rating_a.loc[rating_a['userId'] == uid]\n",
    "                rating_b =  df[(other_uid,i)] # df.loc[df['movieId'] == i]; rating_b = rating_b.loc[rating_b['userId'] == other_uid]\n",
    "                a.append(rating_a); b.append(rating_b)\n",
    "\n",
    "        similarity_degree.append(get_distance(a,b))        \n",
    "            \n",
    "    return similarity_degree\n",
    "\n",
    "def convert_dataframe(df):\n",
    "    uid = df['userId'].tolist()\n",
    "    mid = df['movieId'].tolist()\n",
    "    rating = df['rating'].tolist()\n",
    "    \n",
    "    dataframe_dict = dict()\n",
    "    \n",
    "    for i in range(len(uid)):\n",
    "        dataframe_dict[(uid[i],mid[i])] = rating[i]\n",
    "        \n",
    "    return dataframe_dict\n",
    "\n",
    "def predict_rating(distance_vector, SIMILAR_USERS, mid, df, tth_percentile):\n",
    "    ''' this function will get the most similar users from the similar users (determined by applying the\n",
    "        threshold on the eucledian distance) and then find what ratings they gave to the test rating and return\n",
    "        prediction as their mean'''\n",
    "    try:\n",
    "        threshold = np.percentile(distance_vector,tth_percentile)\n",
    "    except: \n",
    "        return \"ERROR\"\n",
    "\n",
    "    most_similar = list()\n",
    "\n",
    "    for i in range(len(distance_vector)):\n",
    "        if(distance_vector[i] <= threshold):\n",
    "            most_similar.append(SIMILAR_USERS[i])\n",
    "\n",
    "    rating_vector = list()\n",
    "\n",
    "    for i in range(len(most_similar)):\n",
    "        flag = df[(most_similar[i],mid)] # flag = df.loc[df['userId']==most_similar[i]]\n",
    "                                         # flag = flag.loc[flag['movieId']==mid]\n",
    "        rating_vector.append(flag)\n",
    "\n",
    "    return (np.mean(rating_vector))"
   ]
  },
  {
   "cell_type": "code",
   "execution_count": 19,
   "metadata": {},
   "outputs": [],
   "source": [
    "# Reload the data as it's a fresh approach to recommender systems\n",
    "\n",
    "data = pd.read_csv('ratings.csv')"
   ]
  },
  {
   "cell_type": "code",
   "execution_count": 20,
   "metadata": {},
   "outputs": [],
   "source": [
    "# First parameter for this implemetation, this is for the number of movies that a user needs to rate atleast and the minimum number of ratings a movie must have inorder to be considered by this algorithm\n",
    "\n",
    "param1 = 10"
   ]
  },
  {
   "cell_type": "code",
   "execution_count": 21,
   "metadata": {},
   "outputs": [
    {
     "name": "stdout",
     "output_type": "stream",
     "text": [
      "Size before the operation --- 100004\n",
      "\n",
      "Size after the operation --- 81915\n"
     ]
    }
   ],
   "source": [
    "print ('Size before the operation --- {}'.format(data.shape[0]))\n",
    "\n",
    "# Eliminating users who haven't rated atleast  param1 movies\n",
    "data = eliminate_users(data,param1)\n",
    "\n",
    "# Eliminating movies that haven't been rated atleast param1 times\n",
    "data = eliminate_movie(data,param1)\n",
    "\n",
    "print ('\\nSize after the operation --- {}'.format(data.shape[0]))\n",
    "\n",
    "# Now we will create a dictionary where the key will be the userIds and the content will be set of the movieId that the user has rated\n",
    "index = create_ds(data)"
   ]
  },
  {
   "cell_type": "code",
   "execution_count": 22,
   "metadata": {},
   "outputs": [
    {
     "name": "stdout",
     "output_type": "stream",
     "text": [
      "3.0\n"
     ]
    }
   ],
   "source": [
    "# Here we will convert the information in our dataframe to a dictionary for much faster access\n",
    "# dict format: \n",
    "# key = (userId, movieID); value = rating\n",
    "\n",
    "data_dict = convert_dataframe(data)\n",
    "\n",
    "# Lets see how the data looks\n",
    "print (data_dict[1,1029]) # userId = 1 and movieId = 1029"
   ]
  },
  {
   "cell_type": "code",
   "execution_count": 23,
   "metadata": {},
   "outputs": [],
   "source": [
    "# 2nd parameter in this implementation, this is the nth percentile that'll separate the most similar users from the set of all similar users\n",
    "\n",
    "param2 = 75 "
   ]
  },
  {
   "cell_type": "code",
   "execution_count": 24,
   "metadata": {
    "scrolled": true
   },
   "outputs": [],
   "source": [
    "# The main purpose of the caller_func() is to integrate the previous utility functions.\n",
    "\n",
    "def caller_func():\n",
    "    '''This caller function will pick a random point from the dataframe and treat it as a test point.\n",
    "    It'll get the similar users, degree of similarity and then predict rating '''\n",
    "    test_point = data.sample(n=1)\n",
    "    test_uid = int(test_point['userId']); test_mid = int(test_point['movieId'])\n",
    "\n",
    "    similar_users = get_similar_user(test_uid,test_mid,index)\n",
    "\n",
    "    distances = get_similarity_degree(test_uid,test_mid,similar_users,index,data_dict)\n",
    "\n",
    "    #sns.distplot(distances)\n",
    "\n",
    "    observed = float(test_point['rating'])\n",
    "    predicted = predict_rating(distances,similar_users,test_mid,data_dict, param2) # param2 is the t-th percentile for choosing most-similar users\n",
    "    \n",
    "    if (predicted == \"ERROR\"):\n",
    "        return (\"ERROR\", \"ERROR\")\n",
    "    \n",
    "    return (observed,predicted)"
   ]
  },
  {
   "cell_type": "code",
   "execution_count": 25,
   "metadata": {},
   "outputs": [
    {
     "name": "stdout",
     "output_type": "stream",
     "text": [
      "\n",
      "RMSE: 0.9421296447411392\n",
      "MAE: 0.723495951243854\n",
      "\n",
      "Time required = 0:02:23.270263\n"
     ]
    }
   ],
   "source": [
    "initial = datetime.datetime.now()\n",
    "\n",
    "n = int(0.2*data.shape[0]); # 20% of the total size\n",
    "obs = list(); pred = list()\n",
    "while(n>0): \n",
    "    n = n-1\n",
    "    o,p = caller_func()\n",
    "    if (o==\"ERROR\" or p == \"ERROR\"):\n",
    "        continue\n",
    "    obs.append(o); pred.append(p)\n",
    "    \n",
    "metric(obs,pred)\n",
    "\n",
    "final = datetime.datetime.now()\n",
    "\n",
    "print ('\\nTime required =',final-initial)"
   ]
  },
  {
   "cell_type": "markdown",
   "metadata": {},
   "source": [
    "So in this implementation of our recommender system we are getting the above metrics when tested on random points 20% of the data ~ 16k"
   ]
  },
  {
   "cell_type": "markdown",
   "metadata": {},
   "source": [
    "We can see that our implementation of user-user similarity based recommender system resulted in the above metrics. MAE of 0.72 is not at all a bad metric. My hypothesis is this results will improve as users start rating more number of movies as then the set of common movies would increase and it would be more easier to judge who is most similar and who isn't.\n",
    "\n",
    "\n",
    "---"
   ]
  },
  {
   "cell_type": "markdown",
   "metadata": {},
   "source": [
    "### Simple Matrix factorization model using Spotlight\n",
    "\n",
    "Credits: [https://github.com/maciejkula/spotlight] \n",
    "\n",
    "<br>\n",
    "\n",
    "Here I've used a library for matrix factorization which is called spotlight. You can find more about the library in the given link."
   ]
  },
  {
   "cell_type": "code",
   "execution_count": 1,
   "metadata": {},
   "outputs": [],
   "source": [
    "from spotlight.cross_validation import random_train_test_split\n",
    "from spotlight.datasets.movielens import get_movielens_dataset\n",
    "from spotlight.evaluation import rmse_score\n",
    "from spotlight.factorization.explicit import ExplicitFactorizationModel\n",
    "\n",
    "dataset = get_movielens_dataset(variant='100K')\n",
    "\n",
    "train, test = random_train_test_split(dataset)\n",
    "\n",
    "model = ExplicitFactorizationModel(n_iter=1)\n",
    "model.fit(train)\n",
    "\n",
    "rmse = rmse_score(model, test)"
   ]
  },
  {
   "cell_type": "code",
   "execution_count": 2,
   "metadata": {},
   "outputs": [
    {
     "name": "stdout",
     "output_type": "stream",
     "text": [
      "\n",
      "RMSE: 1.003307580947876\n"
     ]
    }
   ],
   "source": [
    "print ('\\nRMSE: {}'.format(rmse))"
   ]
  },
  {
   "cell_type": "code",
   "execution_count": null,
   "metadata": {},
   "outputs": [],
   "source": []
  }
 ],
 "metadata": {
  "kernelspec": {
   "display_name": "Python 3",
   "language": "python",
   "name": "python3"
  },
  "language_info": {
   "codemirror_mode": {
    "name": "ipython",
    "version": 3
   },
   "file_extension": ".py",
   "mimetype": "text/x-python",
   "name": "python",
   "nbconvert_exporter": "python",
   "pygments_lexer": "ipython3",
   "version": "3.6.4"
  }
 },
 "nbformat": 4,
 "nbformat_minor": 2
}
